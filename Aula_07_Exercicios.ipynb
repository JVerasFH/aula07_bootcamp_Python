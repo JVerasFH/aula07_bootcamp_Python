{
 "cells": [
  {
   "cell_type": "markdown",
   "id": "8c0991f8",
   "metadata": {},
   "source": [
    "## Exercícios Aula 07"
   ]
  },
  {
   "cell_type": "code",
   "execution_count": 16,
   "id": "798f3332",
   "metadata": {},
   "outputs": [
    {
     "name": "stdout",
     "output_type": "stream",
     "text": [
      "2.5\n"
     ]
    }
   ],
   "source": [
    "# 1. Calcular Média de Valores em uma Lista\n",
    "def calcular_media(lista: list[float]) -> float:\n",
    "    return sum(lista)/len(lista)\n",
    "\n",
    "lista = list(range(0,6))\n",
    "media_lista = calcular_media(lista)\n",
    "print(media_lista)  "
   ]
  },
  {
   "cell_type": "code",
   "execution_count": null,
   "id": "697b46f2",
   "metadata": {},
   "outputs": [
    {
     "name": "stdout",
     "output_type": "stream",
     "text": [
      "[6, 7, 8, 9, 10]\n"
     ]
    }
   ],
   "source": [
    "# 2. Filtrar Dados Acima de um Limite\n",
    "def filtrar_acima_de(lista: list[float], limite: float) -> list[float]:\n",
    "    lista_filtrada = []\n",
    "    \n",
    "    for item in lista:\n",
    "        if item > limite:\n",
    "            lista_filtrada.append(item)\n",
    "        else:\n",
    "            pass\n",
    "    return lista_filtrada\n",
    "\n",
    "lista = list(range(0,11))\n",
    "filtro = filtrar_acima_de(lista, 5)\n",
    "print(filtro)"
   ]
  },
  {
   "cell_type": "code",
   "execution_count": 11,
   "id": "4901cd11",
   "metadata": {},
   "outputs": [
    {
     "name": "stdout",
     "output_type": "stream",
     "text": [
      "6\n"
     ]
    }
   ],
   "source": [
    "# 3. Contar Valores Únicos em uma Lista\n",
    "def contar_valores_unicos(lista: list[float]):\n",
    "    return len(set(lista)) \n",
    "\n",
    "lista = [1,2,2,3,4,6,6,7]\n",
    "valores_unicos = contar_valores_unicos(lista)\n",
    "print(valores_unicos)"
   ]
  },
  {
   "cell_type": "code",
   "execution_count": null,
   "id": "e6f9ac7a",
   "metadata": {},
   "outputs": [
    {
     "name": "stdout",
     "output_type": "stream",
     "text": [
      "[68.0, 71.6, 77.0]\n"
     ]
    }
   ],
   "source": [
    "# 4. Converter Celsius para Fahrenheit em uma Lista\n",
    "\n",
    "def celsius_para_fahrenheit(temperaturas_celsius: list[float]) -> list[float]:\n",
    "    return [(9/5) * temp + 32 for temp in temperaturas_celsius]\n",
    "\n",
    "lista_temperatura_celsius = [20,22,25]\n",
    "lista_temperatura_fahrenheit = celsius_para_fahrenheit(lista_temperatura_celsius)\n",
    "print(lista_temperatura_fahrenheit)"
   ]
  },
  {
   "cell_type": "code",
   "execution_count": 13,
   "id": "905802ec",
   "metadata": {},
   "outputs": [
    {
     "name": "stdout",
     "output_type": "stream",
     "text": [
      "1.118033988749895\n"
     ]
    }
   ],
   "source": [
    "# 5. Calcular Desvio Padrão de uma Lista\n",
    "\n",
    "def calcular_desvio_padrão(lista: list[float]) -> float:\n",
    "    media = sum(lista) / len(lista)\n",
    "    variancia = sum((x - media) ** 2 for x in lista) / len(lista)\n",
    "    return variancia ** 0.5\n",
    "\n",
    "lista = [1,2,3,4]\n",
    "desvio_padrão = calcular_desvio_padrão(lista)\n",
    "print(desvio_padrão)"
   ]
  },
  {
   "cell_type": "code",
   "execution_count": 27,
   "id": "cad2fccf",
   "metadata": {},
   "outputs": [
    {
     "name": "stdout",
     "output_type": "stream",
     "text": [
      "[1, 3]\n"
     ]
    }
   ],
   "source": [
    "# Encontrar Valores Ausentes em uma Sequência\n",
    "\n",
    "def encontrar_valores_ausentes(lista:list[float]) -> list[float]:\n",
    "    indices_vazios = [i for i, item in enumerate(lista) if item is None]\n",
    "    return indices_vazios\n",
    "\n",
    "lista = [1, None, 3, None, 5]\n",
    "\n",
    "print(encontrar_valores_ausentes(lista))"
   ]
  }
 ],
 "metadata": {
  "kernelspec": {
   "display_name": "Python 3",
   "language": "python",
   "name": "python3"
  },
  "language_info": {
   "codemirror_mode": {
    "name": "ipython",
    "version": 3
   },
   "file_extension": ".py",
   "mimetype": "text/x-python",
   "name": "python",
   "nbconvert_exporter": "python",
   "pygments_lexer": "ipython3",
   "version": "3.13.6"
  }
 },
 "nbformat": 4,
 "nbformat_minor": 5
}
